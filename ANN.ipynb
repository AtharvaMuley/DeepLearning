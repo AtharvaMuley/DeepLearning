{
 "cells": [
  {
   "cell_type": "code",
   "execution_count": 1,
   "metadata": {},
   "outputs": [],
   "source": [
    "__author__ = \"Atharva Muley\""
   ]
  },
  {
   "cell_type": "code",
   "execution_count": 2,
   "metadata": {},
   "outputs": [],
   "source": [
    "import numpy as np\n",
    "import math\n",
    "import random"
   ]
  },
  {
   "cell_type": "code",
   "execution_count": 22,
   "metadata": {},
   "outputs": [
    {
     "name": "stdout",
     "output_type": "stream",
     "text": [
      "[[0. 0. 0.]\n",
      " [0. 0. 0.]]\n",
      "[[0.]\n",
      " [0.]]\n"
     ]
    }
   ],
   "source": [
    "#Initialization\n",
    "no_of_in = 2 #no of input nodes\n",
    "no_of_hn = 3 #no of hidden nodes\n",
    "no_of_on = 1 #no of output nodes\n",
    "\n",
    "#Neural network layers \n",
    "#input_layer = np.zeros(no_of_in)\n",
    "hidden_layer = np.zeros((2,no_of_hn))\n",
    "output_layer = np.zeros((2,no_of_on))\n",
    "print(hidden_layer)\n",
    "print(output_layer)\n",
    "#Note:using index 0 for Yin and index 1 for Yout "
   ]
  },
  {
   "cell_type": "code",
   "execution_count": 4,
   "metadata": {},
   "outputs": [],
   "source": [
    "#Weights for Neural Network\n",
    "Wih = np.zeros((no_of_in,no_of_hn))\n",
    "Who = np.zeros((no_of_hn,no_of_on))"
   ]
  },
  {
   "cell_type": "code",
   "execution_count": 12,
   "metadata": {},
   "outputs": [
    {
     "name": "stdout",
     "output_type": "stream",
     "text": [
      "[0. 0. 0.]\n",
      "[0.]\n"
     ]
    }
   ],
   "source": [
    "Bh = np.zeros(no_of_hn)\n",
    "Bo = np.zeros(no_of_on)\n",
    "\n",
    "print(Bh)\n",
    "print(Bo)"
   ]
  },
  {
   "cell_type": "code",
   "execution_count": 24,
   "metadata": {},
   "outputs": [
    {
     "name": "stdout",
     "output_type": "stream",
     "text": [
      "[[0. 0. 0. 0. 0. 0.]\n",
      " [0. 0. 0. 0. 0. 0.]]\n",
      "[[0. 0.]\n",
      " [0. 0.]\n",
      " [0. 0.]\n",
      " [0. 0.]\n",
      " [0. 0.]\n",
      " [0. 0.]]\n"
     ]
    }
   ],
   "source": [
    "Cih = np.zeros((no_of_in,hidden_layer.size))\n",
    "Cho = np.zeros((no_of_hn,no_of_on))\n",
    "print(Cih)\n",
    "print(Cho)"
   ]
  },
  {
   "cell_type": "code",
   "execution_count": 5,
   "metadata": {},
   "outputs": [
    {
     "name": "stdout",
     "output_type": "stream",
     "text": [
      "(2, 3)\n",
      "(3, 1)\n"
     ]
    }
   ],
   "source": [
    "#Assign random values to Weights\n",
    "def randassign(a,b):\n",
    "    return (b-a)*random.random() + a\n",
    "\n",
    "m,n = Wih.shape\n",
    "for i in range(m):\n",
    "    for j in range(n):\n",
    "        Wih[i,j] = randassign(-1,1)\n",
    "\n",
    "print(Wih.shape)\n",
    "\n",
    "m,n = Who.shape\n",
    "for i in range(m):\n",
    "    for j in range(n):\n",
    "        Who[i,j] = randassign(-1,1)\n",
    "        \n",
    "print(Who.shape)"
   ]
  },
  {
   "cell_type": "code",
   "execution_count": 9,
   "metadata": {},
   "outputs": [],
   "source": [
    "def sigmoid(x,derivative=False):\n",
    "    if derivative:\n",
    "         return x*(1-x) \n",
    "    return 1/(1+math.exp(-x))\n",
    "\n",
    "def relu(x):\n",
    "    if x > 0:\n",
    "        return x\n",
    "    else:\n",
    "        return 0\n",
    "        "
   ]
  },
  {
   "cell_type": "code",
   "execution_count": 16,
   "metadata": {},
   "outputs": [],
   "source": [
    "def backpropagate(loss,LR,M,):\n",
    "    '''global Who\n",
    "    print(Who)\n",
    "    m,n = Who.shape\n",
    "    Wtemp = np.zeros(Who.shape)\n",
    "    ''' \n",
    "    delta = 0\n",
    "    for i in range(no_of_on):\n",
    "        delta += loss*sigmoid(output_layer[0][i],derivative=True)\n",
    "    \n",
    "    for i in range(no_of_hn):\n",
    "        Cho[i] = LR*delta*hidden_layer[0][i]\n",
    "    \n",
    "        \n",
    "def loss(y1,y):\n",
    "    return ((y-y1)**2/2)\n",
    "\n",
    "def feed_forward(p,q):\n",
    "    #Matrix multiplication for input and Hidden layer\n",
    "    #for i in range(no_of_in):\n",
    "    #   input_layer[i] = p[i]\n",
    "    \n",
    "    #Calculating sum and applying activation function for hidden nodes\n",
    "    for i in range(no_of_hn):\n",
    "        sum = 0 \n",
    "        for j in range(no_of_in):\n",
    "            sum = sum + x[i][j]*Wih[j][i]\n",
    "            hidden_layer[0][i] = sum + Bh[i]\n",
    "        hidden_layer[1][i] = sigmoid(sum)\n",
    "        \n",
    "            \n",
    "    #Calculating sum and applying activation function for output nodes\n",
    "    for i in range(no_of_on):\n",
    "        sum = 0 \n",
    "        for j in range(no_of_hn):\n",
    "            sum = sum + hidden_layer[j]*Who[j][i]\n",
    "            output_layer[0][i] = sum + Bo[i]\n",
    "        output_layer[1][0] = sigmoid(sum)\n",
    "    \n",
    "    #Calculating error(loss) for current iteration\n",
    "    error = loss(q,output_layer[1][0])\n",
    "    return error[:]\n",
    "\n",
    "    #LR = Learning Rate, M = Moumentum \n",
    "def fit(input_data,output,epochs,LR=0.5,M=0.9):\n",
    "    \n",
    "    if (len(input_data)!=len(output)):\n",
    "        print(\"Input and Output dataset missmatch\")\n",
    "        return\n",
    "    \n",
    "    for i in range(len(input_data)):\n",
    "        in_data = input_data[i]\n",
    "        out_data = output[i]\n",
    "        error = feed_forward(in_data,out_data)\n",
    "        backpropagate(error,LR,M)"
   ]
  },
  {
   "cell_type": "code",
   "execution_count": null,
   "metadata": {},
   "outputs": [],
   "source": []
  },
  {
   "cell_type": "code",
   "execution_count": 18,
   "metadata": {},
   "outputs": [
    {
     "name": "stdout",
     "output_type": "stream",
     "text": [
      "[[ 0.91504718]\n",
      " [-0.67746958]\n",
      " [ 0.66228306]]\n",
      "THis is delta: 0.0\n",
      "This is x: [0.91504718]\n",
      "THis is delta: 0.0\n",
      "This is x: [-0.67746958]\n",
      "THis is delta: 0.0\n",
      "This is x: [0.66228306]\n",
      "[[0.]\n",
      " [0.]\n",
      " [0.]]\n"
     ]
    }
   ],
   "source": [
    "#feed_forward([0,0],[1]) \n",
    "\n",
    "backpropagate(0.125,0.5,0.9)"
   ]
  },
  {
   "cell_type": "code",
   "execution_count": null,
   "metadata": {},
   "outputs": [],
   "source": []
  }
 ],
 "metadata": {
  "kernelspec": {
   "display_name": "Python 3",
   "language": "python",
   "name": "python3"
  },
  "language_info": {
   "codemirror_mode": {
    "name": "ipython",
    "version": 3
   },
   "file_extension": ".py",
   "mimetype": "text/x-python",
   "name": "python",
   "nbconvert_exporter": "python",
   "pygments_lexer": "ipython3",
   "version": "3.6.5"
  }
 },
 "nbformat": 4,
 "nbformat_minor": 2
}
