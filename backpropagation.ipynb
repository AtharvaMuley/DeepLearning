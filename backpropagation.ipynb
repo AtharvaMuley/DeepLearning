{
 "cells": [
  {
   "cell_type": "code",
   "execution_count": 1,
   "metadata": {},
   "outputs": [],
   "source": [
    "__author__ = \"Atharva Muley\""
   ]
  },
  {
   "cell_type": "code",
   "execution_count": 2,
   "metadata": {},
   "outputs": [],
   "source": [
    "import numpy as np\n",
    "import math\n",
    "import random"
   ]
  },
  {
   "cell_type": "code",
   "execution_count": 3,
   "metadata": {},
   "outputs": [],
   "source": [
    "#Initialization\n",
    "no_of_in = 2 #no of input nodes\n",
    "no_of_hn = 3 #no of hidden nodes\n",
    "no_of_on = 1 #no of output nodes\n",
    "\n",
    "#Neural network layers \n",
    "input_layer = np.zeros(no_of_in)\n",
    "hidden_layer = np.zeros(no_of_hn)\n",
    "output_layer = np.zeros(no_of_on)"
   ]
  },
  {
   "cell_type": "code",
   "execution_count": 4,
   "metadata": {},
   "outputs": [],
   "source": [
    "#Weights for Neural Network\n",
    "Wih = np.zeros((no_of_in,no_of_hn))\n",
    "Who = np.zeros((no_of_hn,no_of_on))"
   ]
  },
  {
   "cell_type": "code",
   "execution_count": 5,
   "metadata": {},
   "outputs": [
    {
     "name": "stdout",
     "output_type": "stream",
     "text": [
      "[[-0.55535435 -0.60097485 -0.2185588 ]\n",
      " [ 0.07143233 -0.30166452  0.94718009]]\n",
      "(3, 1)\n"
     ]
    }
   ],
   "source": [
    "#Assign random values to Weights\n",
    "def randassign(a,b):\n",
    "    return (b-a)*random.random() + a\n",
    "\n",
    "m,n = Wih.shape\n",
    "for i in range(m):\n",
    "    for j in range(n):\n",
    "        Wih[i,j] = randassign(-1,1)\n",
    "\n",
    "print(Wih)\n",
    "\n",
    "m,n = Who.shape\n",
    "for i in range(m):\n",
    "    for j in range(n):\n",
    "        Who[i,j] = randassign(-1,1)\n",
    "        \n",
    "print(Who.shape)"
   ]
  },
  {
   "cell_type": "code",
   "execution_count": 6,
   "metadata": {},
   "outputs": [],
   "source": [
    "Cih = np.zeros((input_layer.size,hidden_layer.size))\n",
    "Cho = np.zeros((hidden_layer.size,output_layer.size))"
   ]
  },
  {
   "cell_type": "code",
   "execution_count": 7,
   "metadata": {},
   "outputs": [],
   "source": [
    "def sigmoid(x):\n",
    "    return 1/(1+math.exp(-x))\n",
    "\n",
    "def relu(x):\n",
    "    if x > 0:\n",
    "        return x\n",
    "    else:\n",
    "        return 0\n",
    "        "
   ]
  },
  {
   "cell_type": "code",
   "execution_count": 10,
   "metadata": {},
   "outputs": [
    {
     "ename": "NameError",
     "evalue": "name 'Wtemp' is not defined",
     "output_type": "error",
     "traceback": [
      "\u001b[0;31m---------------------------------------------------------------------------\u001b[0m",
      "\u001b[0;31mNameError\u001b[0m                                 Traceback (most recent call last)",
      "\u001b[0;32m<ipython-input-10-da4a846f715c>\u001b[0m in \u001b[0;36m<module>\u001b[0;34m()\u001b[0m\n\u001b[0;32m----> 1\u001b[0;31m \u001b[0mprint\u001b[0m\u001b[0;34m(\u001b[0m\u001b[0mWtemp\u001b[0m\u001b[0;34m)\u001b[0m\u001b[0;34m\u001b[0m\u001b[0m\n\u001b[0m",
      "\u001b[0;31mNameError\u001b[0m: name 'Wtemp' is not defined"
     ]
    }
   ],
   "source": []
  },
  {
   "cell_type": "code",
   "execution_count": 53,
   "metadata": {},
   "outputs": [],
   "source": [
    "def backpropagate(loss,LR,M):\n",
    "    global Who\n",
    "    print(Who)\n",
    "    m,n = Who.shape\n",
    "    Wtemp = np.zeros(Who.shape)\n",
    "    for i in range(no_of_hn):\n",
    "        #Rate of Change\n",
    "        delta = LR*loss*hidden_layer[i]\n",
    "        print(\"THis is delta:\",delta)\n",
    "        x = Who[i] + delta + M*Cho[i]\n",
    "        print(\"This is x:\",x)\n",
    "        Cho[i] = delta\n",
    "    print(Wtemp)\n",
    "#     print(Cho)\n",
    "        \n",
    "    \n",
    "        \n",
    "def loss(y1,y):\n",
    "    return ((y-y1)**2/2)\n",
    "\n",
    "def feed_forward(p,q):\n",
    "    #Matrix multiplication for input and Hidden layer\n",
    "    for i in range(no_of_in):\n",
    "        input_layer[i] = p[i]\n",
    "    \n",
    "    #Calculating sum and applying activation function for hidden nodes\n",
    "    for i in range(no_of_hn):\n",
    "        sum = 0 \n",
    "        for j in range(no_of_in):\n",
    "            sum = sum + input_layer[j]*Wih[j][i]\n",
    "        hidden_layer[i] = relu(sum)\n",
    "        \n",
    "            \n",
    "    #Calculating sum and applying activation function for output nodes\n",
    "    for i in range(no_of_on):\n",
    "        sum = 0 \n",
    "        for j in range(no_of_hn):\n",
    "            sum = sum + hidden_layer[j]*Who[j][i]\n",
    "        output_layer[i] = sigmoid(sum)\n",
    "    \n",
    "    #Calculating error(loss) for current iteration\n",
    "    error = loss(q,output_layer[0])\n",
    "    return error[:]\n",
    "\n",
    "    #LR = Learning Rate, M = Moumentum \n",
    "def fit(input_data,output,epochs,LR=0.5,M=0.9):\n",
    "    \n",
    "    if (len(input_data)!=len(output)):\n",
    "        print(\"input and output dataset missmatch\")\n",
    "        return\n",
    "    \n",
    "    for i in range(len(input_data)):\n",
    "        in_data = input_data[i]\n",
    "        out_data = data[i]\n",
    "        error = feed_forward(in_data,out_data)\n",
    "        backpropagate(error,LR,M)"
   ]
  },
  {
   "cell_type": "code",
   "execution_count": 54,
   "metadata": {},
   "outputs": [
    {
     "name": "stdout",
     "output_type": "stream",
     "text": [
      "[[-0.04399123]\n",
      " [ 0.41834493]\n",
      " [ 0.70228966]]\n",
      "THis is delta: 0.0\n",
      "This is x: [-0.04399123]\n",
      "THis is delta: 0.0\n",
      "This is x: [0.41834493]\n",
      "THis is delta: 0.0\n",
      "This is x: [0.70228966]\n",
      "[[0.]\n",
      " [0.]\n",
      " [0.]]\n"
     ]
    }
   ],
   "source": [
    "feed_forward([0,0],[1])\n",
    "backpropagate(0.125,0.5,0.9)"
   ]
  }
 ],
 "metadata": {
  "kernelspec": {
   "display_name": "Python 3",
   "language": "python",
   "name": "python3"
  },
  "language_info": {
   "codemirror_mode": {
    "name": "ipython",
    "version": 3
   },
   "file_extension": ".py",
   "mimetype": "text/x-python",
   "name": "python",
   "nbconvert_exporter": "python",
   "pygments_lexer": "ipython3",
   "version": "3.6.5"
  }
 },
 "nbformat": 4,
 "nbformat_minor": 2
}
